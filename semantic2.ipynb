{
 "cells": [
  {
   "cell_type": "code",
   "execution_count": 2,
   "id": "63c149fd-2cf4-4bf1-aada-4e4f62a03269",
   "metadata": {},
   "outputs": [
    {
     "name": "stdout",
     "output_type": "stream",
     "text": [
      "✅ Saved 5011 rows with label = 'Lexical' to match_lexical_only.csv\n"
     ]
    }
   ],
   "source": [
    "import pandas as pd\n",
    "\n",
    "# Load the dataset\n",
    "df = pd.read_csv(\"match.csv\", encoding='utf-8')\n",
    "\n",
    "# Filter only rows where label is \"Lexical\"\n",
    "df_lexical = df[df['Label'] == 'Lexical']\n",
    "\n",
    "# Save the filtered result\n",
    "df_lexical.to_csv(\"match_lexical_only.csv\", index=False, encoding='utf-8-sig')\n",
    "\n",
    "print(f\"✅ Saved {len(df_lexical)} rows with label = 'Lexical' to match_lexical_only.csv\")\n"
   ]
  },
  {
   "cell_type": "code",
   "execution_count": 4,
   "id": "9b1c80e7-26a7-470d-8561-d077f93ae9b9",
   "metadata": {},
   "outputs": [
    {
     "name": "stdout",
     "output_type": "stream",
     "text": [
      "✅ Added 'Label' column with value 'PARTIAL MATCH' to all rows.\n"
     ]
    }
   ],
   "source": [
    "import pandas as pd\n",
    "\n",
    "# Load your cleaned Bengali dataset\n",
    "df = pd.read_csv(\"cleaned_file.csv\", encoding=\"utf-8\")\n",
    "\n",
    "# Add 'Label' column with all values set to \"PARTIAL MATCH\"\n",
    "df['Label'] = \"PARTIAL MATCH\"\n",
    "\n",
    "# Save the updated file\n",
    "df.to_csv(\"clean_file_with_label.csv\", index=False, encoding='utf-8-sig')\n",
    "\n",
    "print(\"✅ Added 'Label' column with value 'PARTIAL MATCH' to all rows.\")\n"
   ]
  },
  {
   "cell_type": "code",
   "execution_count": 8,
   "id": "e5811180-9cf1-4833-8b96-f8a30bd19503",
   "metadata": {},
   "outputs": [
    {
     "name": "stdout",
     "output_type": "stream",
     "text": [
      "✅ Final dataset created with 12229 records in Bangla_Semantic_Dataset.csv\n"
     ]
    }
   ],
   "source": [
    "import pandas as pd\n",
    "\n",
    "# Function to normalize and keep only relevant columns\n",
    "def load_and_standardize(file_path):\n",
    "    df = pd.read_csv(file_path, encoding=\"utf-8\")\n",
    "    \n",
    "    # Normalize column names (lowercase + strip)\n",
    "    df.columns = [col.strip().lower() for col in df.columns]\n",
    "\n",
    "    # Map to expected column names\n",
    "    col_map = {\n",
    "        'sentence': 'sentence1',         # For clean_file_with_label\n",
    "        'sentence1': 'sentence1',\n",
    "        'sentence2': 'sentence2',\n",
    "        'label': 'Label'\n",
    "    }\n",
    "    \n",
    "    # Rename and filter\n",
    "    df = df.rename(columns=col_map)\n",
    "    df = df[['sentence1', 'sentence2', 'Label']]\n",
    "    \n",
    "    return df\n",
    "\n",
    "# Load and clean all datasets\n",
    "df1 = load_and_standardize(\"clean_file_with_label.csv\")\n",
    "df2 = load_and_standardize(\"no_match_pairs.csv\")\n",
    "df3 = load_and_standardize(\"match_lexical_only.csv\")\n",
    "\n",
    "# Combine\n",
    "df_merged = pd.concat([df1, df2, df3], ignore_index=True)\n",
    "\n",
    "# Optional: Shuffle\n",
    "df_merged = df_merged.sample(frac=1, random_state=42).reset_index(drop=True)\n",
    "\n",
    "# Save final dataset\n",
    "df_merged.to_csv(\"Bangla_Semantic_Dataset.csv\", index=False, encoding='utf-8-sig')\n",
    "\n",
    "print(f\"✅ Final dataset created with {len(df_merged)} records in Bangla_Semantic_Dataset.csv\")\n"
   ]
  },
  {
   "cell_type": "code",
   "execution_count": 1,
   "id": "88430b02-5cb6-4a4e-afe2-9ec5804f8512",
   "metadata": {},
   "outputs": [
    {
     "name": "stderr",
     "output_type": "stream",
     "text": [
      "C:\\Users\\Istiak\\AppData\\Roaming\\Python\\Python312\\site-packages\\sklearn\\utils\\_param_validation.py:11: UserWarning: A NumPy version >=1.23.5 and <2.3.0 is required for this version of SciPy (detected version 2.3.1)\n",
      "  from scipy.sparse import csr_matrix, issparse\n"
     ]
    },
    {
     "name": "stdout",
     "output_type": "stream",
     "text": [
      "CUDA available: True\n",
      "Label classes: ['Lexical' 'NO match' 'PARTIAL MATCH']\n"
     ]
    },
    {
     "name": "stderr",
     "output_type": "stream",
     "text": [
      "C:\\Users\\Istiak\\AppData\\Roaming\\Python\\Python312\\site-packages\\huggingface_hub\\file_download.py:943: FutureWarning: `resume_download` is deprecated and will be removed in version 1.0.0. Downloads always resume when possible. If you want to force a new download, use `force_download=True`.\n",
      "  warnings.warn(\n"
     ]
    },
    {
     "data": {
      "application/vnd.jupyter.widget-view+json": {
       "model_id": "9eea55e0ce754b59890a6c43723d1529",
       "version_major": 2,
       "version_minor": 0
      },
      "text/plain": [
       "Map:   0%|          | 0/9783 [00:00<?, ? examples/s]"
      ]
     },
     "metadata": {},
     "output_type": "display_data"
    },
    {
     "data": {
      "application/vnd.jupyter.widget-view+json": {
       "model_id": "558a40c8570149c099b93dee3be989ad",
       "version_major": 2,
       "version_minor": 0
      },
      "text/plain": [
       "Map:   0%|          | 0/2446 [00:00<?, ? examples/s]"
      ]
     },
     "metadata": {},
     "output_type": "display_data"
    },
    {
     "name": "stderr",
     "output_type": "stream",
     "text": [
      "Some weights of BertForSequenceClassification were not initialized from the model checkpoint at sagorsarker/bangla-bert-base and are newly initialized: ['classifier.bias', 'classifier.weight']\n",
      "You should probably TRAIN this model on a down-stream task to be able to use it for predictions and inference.\n"
     ]
    },
    {
     "data": {
      "text/html": [
       "\n",
       "    <div>\n",
       "      \n",
       "      <progress value='2448' max='2448' style='width:300px; height:20px; vertical-align: middle;'></progress>\n",
       "      [2448/2448 16:10, Epoch 4/4]\n",
       "    </div>\n",
       "    <table border=\"1\" class=\"dataframe\">\n",
       "  <thead>\n",
       " <tr style=\"text-align: left;\">\n",
       "      <th>Epoch</th>\n",
       "      <th>Training Loss</th>\n",
       "      <th>Validation Loss</th>\n",
       "      <th>Accuracy</th>\n",
       "    </tr>\n",
       "  </thead>\n",
       "  <tbody>\n",
       "    <tr>\n",
       "      <td>1</td>\n",
       "      <td>0.075900</td>\n",
       "      <td>0.012631</td>\n",
       "      <td>0.997956</td>\n",
       "    </tr>\n",
       "    <tr>\n",
       "      <td>2</td>\n",
       "      <td>0.011800</td>\n",
       "      <td>0.017357</td>\n",
       "      <td>0.996321</td>\n",
       "    </tr>\n",
       "    <tr>\n",
       "      <td>3</td>\n",
       "      <td>0.007400</td>\n",
       "      <td>0.010185</td>\n",
       "      <td>0.998365</td>\n",
       "    </tr>\n",
       "    <tr>\n",
       "      <td>4</td>\n",
       "      <td>0.001300</td>\n",
       "      <td>0.010145</td>\n",
       "      <td>0.998365</td>\n",
       "    </tr>\n",
       "  </tbody>\n",
       "</table><p>"
      ],
      "text/plain": [
       "<IPython.core.display.HTML object>"
      ]
     },
     "metadata": {},
     "output_type": "display_data"
    },
    {
     "data": {
      "text/html": [],
      "text/plain": [
       "<IPython.core.display.HTML object>"
      ]
     },
     "metadata": {},
     "output_type": "display_data"
    },
    {
     "name": "stdout",
     "output_type": "stream",
     "text": [
      "\n",
      "Classification Report:\n",
      "               precision    recall  f1-score   support\n",
      "\n",
      "      Lexical       1.00      1.00      1.00       777\n",
      "     NO match       1.00      1.00      1.00       803\n",
      "PARTIAL MATCH       1.00      1.00      1.00       866\n",
      "\n",
      "     accuracy                           1.00      2446\n",
      "    macro avg       1.00      1.00      1.00      2446\n",
      " weighted avg       1.00      1.00      1.00      2446\n",
      "\n"
     ]
    },
    {
     "data": {
      "image/png": "[encoded data removed]",
      "text/plain": [
       "<Figure size 800x600 with 2 Axes>"
      ]
     },
     "metadata": {},
     "output_type": "display_data"
    }
   ],
   "source": [
    "import pandas as pd\n",
    "import numpy as np\n",
    "import torch\n",
    "from sklearn.preprocessing import LabelEncoder\n",
    "from sklearn.metrics import classification_report, confusion_matrix, roc_curve, auc\n",
    "import matplotlib.pyplot as plt\n",
    "import seaborn as sns\n",
    "\n",
    "from transformers import (\n",
    "    AutoTokenizer,\n",
    "    AutoModelForSequenceClassification,\n",
    "    TrainingArguments,\n",
    "    Trainer,\n",
    "    DataCollatorWithPadding\n",
    ")\n",
    "from datasets import Dataset\n",
    "\n",
    "print(f\"CUDA available: {torch.cuda.is_available()}\")\n",
    "device = torch.device(\"cuda\" if torch.cuda.is_available() else \"cpu\")\n",
    "\n",
    "df = pd.read_csv(\"Bangla_Semantic_Dataset.csv\", encoding='utf-8')\n",
    "df = df.dropna(subset=[\"sentence1\", \"sentence2\", \"Label\"]).reset_index(drop=True)\n",
    "\n",
    "\n",
    "label_encoder = LabelEncoder()\n",
    "df[\"label\"] = label_encoder.fit_transform(df[\"Label\"])  \n",
    "labels = label_encoder.classes_\n",
    "print(f\"Label classes: {labels}\")\n",
    "\n",
    "\n",
    "df[\"text\"] = df[\"sentence1\"] + \"SEP\" + df[\"sentence2\"]  # [SEP] helps BERT separate segments\n",
    "\n",
    "\n",
    "dataset = Dataset.from_pandas(df[[\"text\", \"label\"]])\n",
    "dataset = dataset.train_test_split(test_size=0.2, seed=42)\n",
    "\n",
    "model_name = \"sagorsarker/bangla-bert-base\"\n",
    "tokenizer = AutoTokenizer.from_pretrained(model_name)\n",
    "\n",
    "def tokenize_function(example):\n",
    "    return tokenizer(example[\"text\"], truncation=True, padding=\"max_length\", max_length=128)\n",
    "\n",
    "dataset = dataset.map(tokenize_function, batched=True)\n",
    "data_collator = DataCollatorWithPadding(tokenizer=tokenizer)\n",
    "\n",
    "\n",
    "num_labels = len(labels)\n",
    "model = AutoModelForSequenceClassification.from_pretrained(\n",
    "    model_name,\n",
    "    num_labels=num_labels\n",
    ").to(device)\n",
    "\n",
    "\n",
    "training_args = TrainingArguments(\n",
    "    output_dir=\"./results_bangla_semantic\",\n",
    "    evaluation_strategy=\"epoch\",\n",
    "    save_strategy=\"epoch\",\n",
    "    learning_rate=2e-5,\n",
    "    per_device_train_batch_size=16,\n",
    "    per_device_eval_batch_size=16,\n",
    "    num_train_epochs=4,\n",
    "    weight_decay=0.01,\n",
    "    logging_dir=\"./logs_bangla\",\n",
    "    load_best_model_at_end=True,\n",
    "    save_total_limit=1\n",
    ")\n",
    "\n",
    "\n",
    "def compute_metrics(p):\n",
    "    preds = np.argmax(p.predictions, axis=1)\n",
    "    acc = (preds == p.label_ids).mean()\n",
    "    return {\"accuracy\": acc}\n",
    "\n",
    "trainer = Trainer(\n",
    "    model=model,\n",
    "    args=training_args,\n",
    "    train_dataset=dataset[\"train\"],\n",
    "    eval_dataset=dataset[\"test\"],\n",
    "    tokenizer=tokenizer,\n",
    "    data_collator=data_collator,\n",
    "    compute_metrics=compute_metrics,\n",
    ")\n",
    "\n",
    "\n",
    "trainer.train()\n",
    "\n",
    "preds = trainer.predict(dataset[\"test\"])\n",
    "y_true = preds.label_ids\n",
    "y_pred = preds.predictions.argmax(-1)\n",
    "\n",
    "\n",
    "y_prob = torch.nn.functional.softmax(torch.tensor(preds.predictions), dim=1).numpy()\n",
    "\n",
    "\n",
    "print(\"\\nClassification Report:\")\n",
    "print(classification_report(y_true, y_pred, target_names=labels))\n",
    "\n",
    "\n",
    "cm = confusion_matrix(y_true, y_pred)\n",
    "plt.figure(figsize=(8, 6))\n",
    "sns.heatmap(cm, annot=True, fmt='d', xticklabels=labels, yticklabels=labels, cmap=\"Blues\")\n",
    "plt.xlabel(\"Predicted\")\n",
    "plt.ylabel(\"Actual\")\n",
    "plt.title(\"Confusion Matrix\")\n",
    "plt.tight_layout()\n",
    "plt.show()\n"
   ]
  },
  {
   "cell_type": "code",
   "execution_count": 40,
   "id": "4fa0361b-cef3-430b-afff-12d67abe6dd5",
   "metadata": {},
   "outputs": [
    {
     "data": {
      "text/plain": [
       "0              Lexical\n",
       "1             NO match\n",
       "2              Lexical\n",
       "3              Lexical\n",
       "4             NO match\n",
       "             ...      \n",
       "12224          Lexical\n",
       "12225         NO match\n",
       "12226         NO match\n",
       "12227    PARTIAL MATCH\n",
       "12228         NO match\n",
       "Name: Label, Length: 12229, dtype: object"
      ]
     },
     "execution_count": 40,
     "metadata": {},
     "output_type": "execute_result"
    }
   ],
   "source": [
    "df[\"Label\"]"
   ]
  },
  {
   "cell_type": "code",
   "execution_count": 41,
   "id": "416cf1a5-a660-4783-911d-5b7681149f62",
   "metadata": {},
   "outputs": [
    {
     "name": "stdout",
     "output_type": "stream",
     "text": [
      "Label classes: ['Lexical' 'NO match' 'PARTIAL MATCH']\n"
     ]
    },
    {
     "name": "stderr",
     "output_type": "stream",
     "text": [
      "C:\\Users\\Istiak\\AppData\\Roaming\\Python\\Python312\\site-packages\\huggingface_hub\\file_download.py:943: FutureWarning: `resume_download` is deprecated and will be removed in version 1.0.0. Downloads always resume when possible. If you want to force a new download, use `force_download=True`.\n",
      "  warnings.warn(\n"
     ]
    },
    {
     "data": {
      "application/vnd.jupyter.widget-view+json": {
       "model_id": "eb6cb8e94b26410fa23feba9495726a5",
       "version_major": 2,
       "version_minor": 0
      },
      "text/plain": [
       "Map:   0%|          | 0/9783 [00:00<?, ? examples/s]"
      ]
     },
     "metadata": {},
     "output_type": "display_data"
    },
    {
     "data": {
      "application/vnd.jupyter.widget-view+json": {
       "model_id": "1a908eb646f64706bac1dbc6965fef4c",
       "version_major": 2,
       "version_minor": 0
      },
      "text/plain": [
       "Map:   0%|          | 0/2446 [00:00<?, ? examples/s]"
      ]
     },
     "metadata": {},
     "output_type": "display_data"
    },
    {
     "name": "stderr",
     "output_type": "stream",
     "text": [
      "Some weights of BertForSequenceClassification were not initialized from the model checkpoint at sagorsarker/bangla-bert-base and are newly initialized: ['classifier.bias', 'classifier.weight']\n",
      "You should probably TRAIN this model on a down-stream task to be able to use it for predictions and inference.\n"
     ]
    },
    {
     "data": {
      "text/html": [
       "\n",
       "    <div>\n",
       "      \n",
       "      <progress value='1836' max='1836' style='width:300px; height:20px; vertical-align: middle;'></progress>\n",
       "      [1836/1836 12:07, Epoch 3/3]\n",
       "    </div>\n",
       "    <table border=\"1\" class=\"dataframe\">\n",
       "  <thead>\n",
       " <tr style=\"text-align: left;\">\n",
       "      <th>Epoch</th>\n",
       "      <th>Training Loss</th>\n",
       "      <th>Validation Loss</th>\n",
       "      <th>Accuracy</th>\n",
       "    </tr>\n",
       "  </thead>\n",
       "  <tbody>\n",
       "    <tr>\n",
       "      <td>1</td>\n",
       "      <td>0.000800</td>\n",
       "      <td>0.032876</td>\n",
       "      <td>0.993868</td>\n",
       "    </tr>\n",
       "    <tr>\n",
       "      <td>2</td>\n",
       "      <td>0.000200</td>\n",
       "      <td>0.017628</td>\n",
       "      <td>0.996321</td>\n",
       "    </tr>\n",
       "    <tr>\n",
       "      <td>3</td>\n",
       "      <td>0.000100</td>\n",
       "      <td>0.014528</td>\n",
       "      <td>0.996729</td>\n",
       "    </tr>\n",
       "  </tbody>\n",
       "</table><p>"
      ],
      "text/plain": [
       "<IPython.core.display.HTML object>"
      ]
     },
     "metadata": {},
     "output_type": "display_data"
    },
    {
     "data": {
      "text/html": [],
      "text/plain": [
       "<IPython.core.display.HTML object>"
      ]
     },
     "metadata": {},
     "output_type": "display_data"
    },
    {
     "name": "stdout",
     "output_type": "stream",
     "text": [
      "\n",
      "📊 Classification Report:\n",
      "               precision    recall  f1-score   support\n",
      "\n",
      "      Lexical       1.00      1.00      1.00       820\n",
      "     NO match       1.00      1.00      1.00       800\n",
      "PARTIAL MATCH       1.00      1.00      1.00       826\n",
      "\n",
      "     accuracy                           1.00      2446\n",
      "    macro avg       1.00      1.00      1.00      2446\n",
      " weighted avg       1.00      1.00      1.00      2446\n",
      "\n"
     ]
    },
    {
     "data": {
      "image/png": "[encoded data removed]",
      "text/plain": [
       "<Figure size 600x500 with 2 Axes>"
      ]
     },
     "metadata": {},
     "output_type": "display_data"
    }
   ],
   "source": [
    "\n",
    "label_encoder = LabelEncoder()\n",
    "df[\"label\"] = label_encoder.fit_transform(df[\"Label\"])  # e.g., 0, 1, 2\n",
    "labels = label_encoder.classes_\n",
    "print(f\"Label classes: {labels}\")\n",
    "\n",
    "\n",
    "train_df, test_df = train_test_split(df, test_size=0.2, random_state=42, stratify=df[\"label\"])\n",
    "train_dataset = Dataset.from_pandas(train_df)\n",
    "test_dataset = Dataset.from_pandas(test_df)\n",
    "\n",
    "\n",
    "model_name = \"sagorsarker/bangla-bert-base\"\n",
    "tokenizer = AutoTokenizer.from_pretrained(model_name)\n",
    "\n",
    "def tokenize_function(example):\n",
    "    return tokenizer(example[\"sentence1\"], example[\"sentence2\"],\n",
    "                     truncation=True, padding=\"max_length\", max_length=128)\n",
    "\n",
    "train_dataset = train_dataset.map(tokenize_function, batched=True)\n",
    "test_dataset = test_dataset.map(tokenize_function, batched=True)\n",
    "\n",
    "train_dataset = train_dataset.rename_column(\"label\", \"labels\")\n",
    "test_dataset = test_dataset.rename_column(\"label\", \"labels\")\n",
    "\n",
    "train_dataset.set_format(\"torch\", columns=[\"input_ids\", \"attention_mask\", \"labels\"])\n",
    "test_dataset.set_format(\"torch\", columns=[\"input_ids\", \"attention_mask\", \"labels\"])\n",
    "\n",
    "\n",
    "model = AutoModelForSequenceClassification.from_pretrained(model_name, num_labels=len(labels)).to(device)\n",
    "\n",
    "training_args = TrainingArguments(\n",
    "    output_dir=\"./results\",\n",
    "    evaluation_strategy=\"epoch\",\n",
    "    save_strategy=\"epoch\",\n",
    "    learning_rate=2e-5,\n",
    "    per_device_train_batch_size=16,\n",
    "    per_device_eval_batch_size=16,\n",
    "    num_train_epochs=3,\n",
    "    weight_decay=0.01,\n",
    "    load_best_model_at_end=True,\n",
    "    metric_for_best_model=\"eval_loss\",\n",
    "    logging_dir='./logs',\n",
    "    logging_steps=10,\n",
    ")\n",
    "\n",
    "data_collator = DataCollatorWithPadding(tokenizer=tokenizer)\n",
    "\n",
    "\n",
    "def compute_metrics(eval_pred):\n",
    "    predictions, labels_true = eval_pred\n",
    "    preds = np.argmax(predictions, axis=1)\n",
    "    acc = (preds == labels_true).mean()\n",
    "    return {\"accuracy\": acc}\n",
    "\n",
    "\n",
    "trainer = Trainer(\n",
    "    model=model,\n",
    "    args=training_args,\n",
    "    train_dataset=train_dataset,\n",
    "    eval_dataset=test_dataset,\n",
    "    tokenizer=tokenizer,\n",
    "    data_collator=data_collator,\n",
    "    compute_metrics=compute_metrics\n",
    ")\n",
    "\n",
    "\n",
    "trainer.train()\n",
    "\n",
    "\n",
    "preds_output = trainer.predict(test_dataset)\n",
    "y_true = preds_output.label_ids\n",
    "y_pred = np.argmax(preds_output.predictions, axis=1)\n",
    "\n",
    "\n",
    "print(\"\\n📊 Classification Report:\")\n",
    "print(classification_report(y_true, y_pred, target_names=labels, zero_division=0))\n",
    "\n",
    "\n",
    "cm = confusion_matrix(y_true, y_pred)\n",
    "plt.figure(figsize=(6,5))\n",
    "sns.heatmap(cm, annot=True, fmt='d', cmap='Blues', xticklabels=labels, yticklabels=labels)\n",
    "plt.xlabel(\"Predicted\")\n",
    "plt.ylabel(\"True\")\n",
    "plt.title(\"Confusion Matrix\")\n",
    "plt.tight_layout()\n",
    "plt.show()"
   ]
  },
  {
   "cell_type": "code",
   "execution_count": 65,
   "id": "de19766d-5ae7-4afb-ad4a-c2e4dc1f0269",
   "metadata": {},
   "outputs": [],
   "source": [
    "\n",
    "def predict_relationship(sentence1, sentence2):\n",
    "    model.eval()  # Set model to evaluation mode\n",
    "    inputs = tokenizer(\n",
    "        sentence1,\n",
    "        sentence2,\n",
    "        return_tensors=\"pt\",\n",
    "        truncation=True,\n",
    "        padding=\"max_length\",\n",
    "        max_length=128\n",
    "    ).to(device)\n",
    "\n",
    "    with torch.no_grad():\n",
    "        outputs = model(**inputs)\n",
    "        logits = outputs.logits\n",
    "        predicted_class = torch.argmax(logits, dim=1).item()\n",
    "        predicted_label = label_encoder.inverse_transform([predicted_class])[0]\n",
    "    \n",
    "    return predicted_label\n"
   ]
  },
  {
   "cell_type": "code",
   "execution_count": 66,
   "id": "077bbf62-f597-4008-8ed8-6cc7535e1838",
   "metadata": {},
   "outputs": [
    {
     "name": "stdout",
     "output_type": "stream",
     "text": [
      "Prediction: PARTIAL MATCH\n"
     ]
    }
   ],
   "source": [
    "s1 = \"সে ক্রিকেট খেলে।\"\n",
    "s2 = \"সে ফুটবল খেলে।\"\n",
    "print(f\"Prediction: {predict_relationship(s1, s2)}\")   #New Data From chatgpt \n"
   ]
  },
  {
   "cell_type": "code",
   "execution_count": 69,
   "id": "09fbb2c9-f83b-4e64-b0d0-18bb96873a37",
   "metadata": {},
   "outputs": [
    {
     "name": "stdout",
     "output_type": "stream",
     "text": [
      "Prediction: Lexical\n"
     ]
    }
   ],
   "source": [
    "s1 = \"প্রতিদিন বিকালে পত্রিকা পড়া হয় তার দ্বারা।\"\n",
    "s2 = \"সে প্রতিদিন বিকালে পত্রিকা পড়ে।\"\n",
    "print(f\"Prediction: {predict_relationship(s1, s2)}\")  #From Dataset"
   ]
  },
  {
   "cell_type": "code",
   "execution_count": 70,
   "id": "91d3019d-794a-463c-9849-908f941c0e35",
   "metadata": {},
   "outputs": [
    {
     "name": "stdout",
     "output_type": "stream",
     "text": [
      "Prediction: NO match\n"
     ]
    }
   ],
   "source": [
    "s1 = \"হাব ব্যবহার করছিলাম।।\"\n",
    "s2 = \"এখনোও সবুজ স্কুল হইতে ফিরে নাই\"\n",
    "print(f\"Prediction: {predict_relationship(s1, s2)}\")     #From Dataset"
   ]
  },
  {
   "cell_type": "code",
   "execution_count": 72,
   "id": "804194a9-e251-4f85-9810-3fa99ff72e4e",
   "metadata": {},
   "outputs": [
    {
     "name": "stdout",
     "output_type": "stream",
     "text": [
      "Prediction: Lexical\n"
     ]
    }
   ],
   "source": [
    "s1 = \"বাচ্চারা মাঠে খেলছে।\"\n",
    "s2 = \"কিছু বাচ্চা মাঠে খেলছে ।\"\n",
    "print(f\"Prediction: {predict_relationship(s1, s2)}\")        #New Data From chatgpt "
   ]
  },
  {
   "cell_type": "code",
   "execution_count": 73,
   "id": "f124311f-7982-46d1-9f59-b569fa18a8e5",
   "metadata": {},
   "outputs": [
    {
     "name": "stdout",
     "output_type": "stream",
     "text": [
      "Prediction: PARTIAL MATCH\n"
     ]
    }
   ],
   "source": [
    "s1 = \"আজ রোদ ছিল খুব বেশি।\"\n",
    "s2 = \"আজকের আবহাওয়া ছিল গরম।\"\n",
    "print(f\"Prediction: {predict_relationship(s1, s2)}\")    #New Data From chatgpt "
   ]
  },
  {
   "cell_type": "code",
   "execution_count": 76,
   "id": "613052da-e3a2-4e86-b0aa-47407f8532d2",
   "metadata": {},
   "outputs": [
    {
     "name": "stdout",
     "output_type": "stream",
     "text": [
      "Prediction: Lexical\n"
     ]
    }
   ],
   "source": [
    "s1 = \"সে প্রতিদিন সকালে চা পান করে, তারপর অফিসের কাজ শুরু করে।\"\n",
    "s2 = \"প্রতিদিন সকালে চা খাওয়ার পরে সে অফিসে যাওয়ার জন্য প্রস্তুতি নেয়।\"\n",
    "print(f\"Prediction: {predict_relationship(s1, s2)}\")  #  New Data From chatgpt "
   ]
  },
  {
   "cell_type": "code",
   "execution_count": 77,
   "id": "4cdeaf31-5a77-49ea-8bea-0928cbddfc92",
   "metadata": {},
   "outputs": [
    {
     "name": "stdout",
     "output_type": "stream",
     "text": [
      "Prediction: NO match\n"
     ]
    }
   ],
   "source": [
    "s1 = \"গণনা করিয়া থাকব।\"\n",
    "s2 = \"তিনি তার পুরো পরিবারকেই এই শিক্ষা দিয়েছিলেন\"\n",
    "print(f\"Prediction: {predict_relationship(s1, s2)}\")  #  New Data From chatgpt "
   ]
  },
  {
   "cell_type": "code",
   "execution_count": 78,
   "id": "314b8f59-c2e3-4e00-8c02-5ccf492432ac",
   "metadata": {},
   "outputs": [
    {
     "name": "stdout",
     "output_type": "stream",
     "text": [
      "Prediction: Lexical\n"
     ]
    }
   ],
   "source": [
    "s1 = \"সে রাতে ঘুমানোর আগে বই পড়ে, যা তার জ্ঞান বাড়াতে সাহায্য করে।\"\n",
    "s2 = \"রাতে ঘুমানোর আগে সে বই পড়ে, যাতে তার পড়াশোনায় উন্নতি হয়।\"\n",
    "print(f\"Prediction: {predict_relationship(s1, s2)}\")  #  New Data From chatgpt"
   ]
  },
  {
   "cell_type": "code",
   "execution_count": 80,
   "id": "caf45d0b-d6db-444f-9cfb-f5727213c4c1",
   "metadata": {},
   "outputs": [
    {
     "name": "stdout",
     "output_type": "stream",
     "text": [
      "Prediction: Lexical\n"
     ]
    }
   ],
   "source": [
    "\n",
    "s1 = \"সে সকালে দেরি করে ঘুম থেকে উঠেছে।\"\n",
    "s2 = \"সে আজ সকালেই উঠেছিল, কিন্তু দেরি করে বাড়ি থেকে বেরিয়েছে।\"\n",
    "print(f\"Prediction: {predict_relationship(s1, s2)}\")  #  New Data From chatgpt"
   ]
  },
  {
   "cell_type": "code",
   "execution_count": 85,
   "id": "1baef2b8-34ea-41ef-a20e-7040341518c3",
   "metadata": {},
   "outputs": [
    {
     "name": "stdout",
     "output_type": "stream",
     "text": [
      "Prediction: Lexical\n"
     ]
    }
   ],
   "source": [
    "s1 = \"সে ভবিষ্যতে একটি নতুন চাকরি শুরু করবে।\"\n",
    "s2 = \"সে ভবিষ্যতে একটি নতুন চাকরি শুরু করবে।\"\n",
    "print(f\"Prediction: {predict_relationship(s1, s2)}\")\n"
   ]
  },
  {
   "cell_type": "code",
   "execution_count": 86,
   "id": "9072b535-a935-44c8-bdfb-bc3f41b519f7",
   "metadata": {},
   "outputs": [
    {
     "name": "stdout",
     "output_type": "stream",
     "text": [
      "Prediction: PARTIAL MATCH\n"
     ]
    }
   ],
   "source": [
    "s1 = \"সে ভবিষ্যতে একটি নতুন চাকরি শুরু করবে।\"\n",
    "s2 = \"সে ভবিষ্যতে একটি নতুন ব্যবসা শুরু করবে\"\n",
    "print(f\"Prediction: {predict_relationship(s1, s2)}\")"
   ]
  },
  {
   "cell_type": "code",
   "execution_count": null,
   "id": "47346f2b-fe0d-4a00-8eb9-c51d4c93c4e3",
   "metadata": {},
   "outputs": [],
   "source": []
  }
 ],
 "metadata": {
  "kernelspec": {
   "display_name": "Python 3 (ipykernel)",
   "language": "python",
   "name": "python3"
  },
  "language_info": {
   "codemirror_mode": {
    "name": "ipython",
    "version": 3
   },
   "file_extension": ".py",
   "mimetype": "text/x-python",
   "name": "python",
   "nbconvert_exporter": "python",
   "pygments_lexer": "ipython3",
   "version": "3.12.6"
  }
 },
 "nbformat": 4,
 "nbformat_minor": 5
}
